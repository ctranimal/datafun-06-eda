{
 "cells": [
  {
   "cell_type": "markdown",
   "id": "4d64c41e",
   "metadata": {},
   "source": [
    "# CANH TRAN Notebook - Project 06.\n",
    "\n",
    "- Author: [Ken McTran](https://github.com/ctranimal )\n",
    "- Repository: https://github.com/ctranimal/datafun-06-eda \n",
    "  \n",
    "- Purpose: To practice with Markdown cells, Jupyter, pandas, Seaborn and other popular tools for data analytics. \n",
    "- Date: Most recently updated: 8/06/25."
   ]
  },
  {
   "cell_type": "markdown",
   "id": "d2bca057",
   "metadata": {},
   "source": [
    "## Section 0. Import external packages \n",
    "   \n",
    "#### The purpose of this section is to import external packages that I will need to execute python code subsequently"
   ]
  },
  {
   "cell_type": "code",
   "execution_count": 1,
   "id": "9231ea24",
   "metadata": {},
   "outputs": [],
   "source": [
    "import matplotlib.pyplot as plt\n",
    "import pandas as pd\n",
    "import seaborn as sns\n"
   ]
  },
  {
   "cell_type": "markdown",
   "id": "e018815d",
   "metadata": {},
   "source": [
    "## Section 1. Data Acquisition\n",
    "\n",
    "#### 1. Load the car_crashes dataset into pandas DataFrame. For this project, we use pre-made data called car_crashes so that we can go ahead and practice with pandas DataFrame (as opposed to loading data from the internet via reading excel or csv or JSON data etc ...)"
   ]
  },
  {
   "cell_type": "code",
   "execution_count": 2,
   "id": "373bdd52",
   "metadata": {},
   "outputs": [
    {
     "name": "stdout",
     "output_type": "stream",
     "text": [
      "   total  speeding  alcohol  not_distracted  no_previous  ins_premium  \\\n",
      "0   18.8     7.332    5.640          18.048       15.040       784.55   \n",
      "1   18.1     7.421    4.525          16.290       17.014      1053.48   \n",
      "2   18.6     6.510    5.208          15.624       17.856       899.47   \n",
      "3   22.4     4.032    5.824          21.056       21.280       827.34   \n",
      "4   12.0     4.200    3.360          10.920       10.680       878.41   \n",
      "\n",
      "   ins_losses abbrev  \n",
      "0      145.08     AL  \n",
      "1      133.93     AK  \n",
      "2      110.35     AZ  \n",
      "3      142.39     AR  \n",
      "4      165.63     CA  \n"
     ]
    }
   ],
   "source": [
    "# Load the dataset ino a pandas DataFrame\n",
    "df = sns.load_dataset(\"car_crashes\")\n",
    "\n",
    "# Inspect first rows of the DataFrame\n",
    "print(df.head())"
   ]
  },
  {
   "cell_type": "markdown",
   "id": "6217d6be",
   "metadata": {},
   "source": [
    "## Section 2. Initial Data Inspection\n",
    "\n",
    "#### Display the first 10 rows of the DataFrame, display the data types of each column using df.head(10), df.shape and df.dtypes"
   ]
  },
  {
   "cell_type": "code",
   "execution_count": 3,
   "id": "88a5369a",
   "metadata": {},
   "outputs": [
    {
     "name": "stdout",
     "output_type": "stream",
     "text": [
      "   total  speeding  alcohol  not_distracted  no_previous  ins_premium  \\\n",
      "0   18.8     7.332    5.640          18.048       15.040       784.55   \n",
      "1   18.1     7.421    4.525          16.290       17.014      1053.48   \n",
      "2   18.6     6.510    5.208          15.624       17.856       899.47   \n",
      "3   22.4     4.032    5.824          21.056       21.280       827.34   \n",
      "4   12.0     4.200    3.360          10.920       10.680       878.41   \n",
      "5   13.6     5.032    3.808          10.744       12.920       835.50   \n",
      "6   10.8     4.968    3.888           9.396        8.856      1068.73   \n",
      "7   16.2     6.156    4.860          14.094       16.038      1137.87   \n",
      "8    5.9     2.006    1.593           5.900        5.900      1273.89   \n",
      "9   17.9     3.759    5.191          16.468       16.826      1160.13   \n",
      "\n",
      "   ins_losses abbrev  \n",
      "0      145.08     AL  \n",
      "1      133.93     AK  \n",
      "2      110.35     AZ  \n",
      "3      142.39     AR  \n",
      "4      165.63     CA  \n",
      "5      139.91     CO  \n",
      "6      167.02     CT  \n",
      "7      151.48     DE  \n",
      "8      136.05     DC  \n",
      "9      144.18     FL  \n",
      "(51, 8)\n",
      "total             float64\n",
      "speeding          float64\n",
      "alcohol           float64\n",
      "not_distracted    float64\n",
      "no_previous       float64\n",
      "ins_premium       float64\n",
      "ins_losses        float64\n",
      "abbrev             object\n",
      "dtype: object\n"
     ]
    }
   ],
   "source": [
    "print(df.head(10))\n",
    "print(df.shape)\n",
    "print(df.dtypes)"
   ]
  }
 ],
 "metadata": {
  "kernelspec": {
   "display_name": ".venv",
   "language": "python",
   "name": "python3"
  },
  "language_info": {
   "codemirror_mode": {
    "name": "ipython",
    "version": 3
   },
   "file_extension": ".py",
   "mimetype": "text/x-python",
   "name": "python",
   "nbconvert_exporter": "python",
   "pygments_lexer": "ipython3",
   "version": "3.13.5"
  }
 },
 "nbformat": 4,
 "nbformat_minor": 5
}
